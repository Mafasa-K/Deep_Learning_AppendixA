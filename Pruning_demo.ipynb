{
 "cells": [
  {
   "attachments": {},
   "cell_type": "raw",
   "id": "75e7c9d6-1121-4eef-a1f9-42b34c7a00f2",
   "metadata": {},
   "source": [
    "Author: Kgomotso Larry Sebela\n",
    "Matriculation number: 1022306255\n",
    "IU International University of Applied Sciences\n",
    "Tutor: Tom Thielo\n",
    "Date Created: 20 August 2024\n"
   ]
  },
  {
   "cell_type": "markdown",
   "id": "678a4ade",
   "metadata": {},
   "source": [
    "### 1. Load and Preprocess the MNIST Dataset"
   ]
  },
  {
   "cell_type": "code",
   "execution_count": 8,
   "id": "996fe116-e3d3-43e2-9764-a0a5c83766b0",
   "metadata": {},
   "outputs": [],
   "source": [
    "# Loading packages\n",
    "import torch\n",
    "import torch.nn as nn\n",
    "import torch.optim as optim\n",
    "import torch.nn.functional as F\n",
    "import torch.utils.data as data\n",
    "from torchvision import datasets, transforms\n",
    "\n",
    "# Define transformations for the MNIST dataset\n",
    "transform = transforms.Compose([transforms.ToTensor(), transforms.Normalize((0.1307,), (0.3081,))])\n",
    "\n",
    "# Load the MNIST dataset\n",
    "train_dataset = datasets.MNIST(root='./data', train=True, download=True, transform=transform)\n",
    "test_dataset = datasets.MNIST(root='./data', train=False, download=True, transform=transform)\n",
    "\n",
    "# Create data loaders\n",
    "train_loader = data.DataLoader(train_dataset, batch_size=64, shuffle=True)\n",
    "test_loader = data.DataLoader(test_dataset, batch_size=1000, shuffle=False)\n"
   ]
  },
  {
   "cell_type": "markdown",
   "id": "e55b8390",
   "metadata": {},
   "source": [
    "### 2. Define a Simple Neural Network Model"
   ]
  },
  {
   "cell_type": "code",
   "execution_count": 11,
   "id": "d4fcf502",
   "metadata": {},
   "outputs": [],
   "source": [
    "class ModelNN(nn.Module):\n",
    "    def __init__(self):\n",
    "        super(ModelNN, self).__init__()\n",
    "        self.fc1 = nn.Linear(28 * 28, 300)\n",
    "        self.fc2 = nn.Linear(300, 100)\n",
    "        self.fc3 = nn.Linear(100, 10)\n",
    "\n",
    "    def forward(self, x):\n",
    "        x = x.view(-1, 28 * 28)\n",
    "        x = F.relu(self.fc1(x))\n",
    "        x = F.relu(self.fc2(x))\n",
    "        x = self.fc3(x)\n",
    "        return F.log_softmax(x, dim=1)\n",
    "\n",
    "model = ModelNN()\n"
   ]
  },
  {
   "cell_type": "markdown",
   "id": "c5e5a1d2",
   "metadata": {},
   "source": [
    "### 3. Train the Model to Establish a Baseline Accuracy"
   ]
  },
  {
   "cell_type": "code",
   "execution_count": 12,
   "id": "33c3b317",
   "metadata": {},
   "outputs": [
    {
     "name": "stdout",
     "output_type": "stream",
     "text": [
      "Baseline Accuracy: 97.90%\n"
     ]
    }
   ],
   "source": [
    "def train(model, device, train_loader, optimizer, epoch):\n",
    "    model.train()\n",
    "    for batch_idx, (data, target) in enumerate(train_loader):\n",
    "        data, target = data.to(device), target.to(device)\n",
    "        optimizer.zero_grad()\n",
    "        output = model(data)\n",
    "        loss = F.nll_loss(output, target)\n",
    "        loss.backward()\n",
    "        optimizer.step()\n",
    "\n",
    "def test(model, device, test_loader):\n",
    "    model.eval()\n",
    "    test_loss = 0\n",
    "    correct = 0\n",
    "    with torch.no_grad():\n",
    "        for data, target in test_loader:\n",
    "            data, target = data.to(device), target.to(device)\n",
    "            output = model(data)\n",
    "            test_loss += F.nll_loss(output, target, reduction='sum').item()\n",
    "            pred = output.argmax(dim=1, keepdim=True)\n",
    "            correct += pred.eq(target.view_as(pred)).sum().item()\n",
    "\n",
    "    test_loss /= len(test_loader.dataset)\n",
    "    accuracy = 100. * correct / len(test_loader.dataset)\n",
    "    return test_loss, accuracy\n",
    "\n",
    "# Set device, optimizer, and train the model\n",
    "device = torch.device(\"cuda\" if torch.cuda.is_available() else \"cpu\")\n",
    "model.to(device)\n",
    "optimizer = optim.SGD(model.parameters(), lr=0.01, momentum=0.9)\n",
    "\n",
    "# Training loop\n",
    "for epoch in range(1, 6):\n",
    "    train(model, device, train_loader, optimizer, epoch)\n",
    "\n",
    "# Evaluate the baseline model\n",
    "baseline_loss, baseline_accuracy = test(model, device, test_loader)\n",
    "print(f\"Baseline Accuracy: {baseline_accuracy:.2f}%\")\n"
   ]
  },
  {
   "cell_type": "markdown",
   "id": "f0060362",
   "metadata": {},
   "source": [
    "### 4. Apply Pruning to the Model"
   ]
  },
  {
   "cell_type": "code",
   "execution_count": 13,
   "id": "17081113",
   "metadata": {},
   "outputs": [],
   "source": [
    "import torch.nn.utils.prune as prune\n",
    "\n",
    "# Pruning parameters\n",
    "parameters_to_prune = (\n",
    "    (model.fc1, 'weight'),\n",
    "    (model.fc2, 'weight'),\n",
    ")\n",
    "\n",
    "# Apply pruning to the model\n",
    "prune.global_unstructured(\n",
    "    parameters_to_prune,\n",
    "    pruning_method=prune.L1Unstructured,\n",
    "    amount=0.5,  \n",
    ")"
   ]
  },
  {
   "cell_type": "markdown",
   "id": "32ddec58",
   "metadata": {},
   "source": [
    "### 5. Retrain the Pruned Model"
   ]
  },
  {
   "cell_type": "code",
   "execution_count": 14,
   "id": "df2faf25",
   "metadata": {},
   "outputs": [
    {
     "name": "stdout",
     "output_type": "stream",
     "text": [
      "Pruned Model Accuracy: 98.23%\n"
     ]
    }
   ],
   "source": [
    "# Retrain the pruned model\n",
    "for epoch in range(1, 6):\n",
    "    train(model, device, train_loader, optimizer, epoch)\n",
    "\n",
    "# Evaluate the pruned model\n",
    "pruned_loss, pruned_accuracy = test(model, device, test_loader)\n",
    "print(f\"Pruned Model Accuracy: {pruned_accuracy:.2f}%\")\n"
   ]
  },
  {
   "cell_type": "markdown",
   "id": "e589d87b",
   "metadata": {},
   "source": [
    "### 6. Compare Performance and Plot Results"
   ]
  },
  {
   "cell_type": "code",
   "execution_count": 16,
   "id": "78b39b54",
   "metadata": {},
   "outputs": [
    {
     "name": "stderr",
     "output_type": "stream",
     "text": [
      "/var/folders/ln/h2wkl_x92m56lbsz9fzn33l00000gn/T/ipykernel_88334/2649122568.py:12: UserWarning: No artists with labels found to put in legend.  Note that artists whose label start with an underscore are ignored when legend() is called with no argument.\n",
      "  plt.legend()\n"
     ]
    },
    {
     "data": {
      "image/png": "[encoded data removed]",
      "text/plain": [
       "<Figure size 800x600 with 1 Axes>"
      ]
     },
     "metadata": {},
     "output_type": "display_data"
    }
   ],
   "source": [
    "import matplotlib.pyplot as plt\n",
    "\n",
    "# Plot the results\n",
    "labels = ['Baseline', 'Pruned']\n",
    "accuracies = [baseline_accuracy, pruned_accuracy]\n",
    "\n",
    "plt.figure(figsize=(8, 6))\n",
    "plt.bar(labels, accuracies, color=['blue', 'orange'])\n",
    "plt.ylabel('Test Accuracy (%)')\n",
    "plt.title('Comparison of Baseline and Pruned Model Accuracy')\n",
    "plt.ylim(0, 100)\n",
    "plt.legend()\n",
    "plt.show()"
   ]
  },
  {
   "cell_type": "code",
   "execution_count": null,
   "id": "f4d697f4",
   "metadata": {},
   "outputs": [],
   "source": []
  }
 ],
 "metadata": {
  "kernelspec": {
   "display_name": "Python 3 (ipykernel)",
   "language": "python",
   "name": "python3"
  },
  "language_info": {
   "codemirror_mode": {
    "name": "ipython",
    "version": 3
   },
   "file_extension": ".py",
   "mimetype": "text/x-python",
   "name": "python",
   "nbconvert_exporter": "python",
   "pygments_lexer": "ipython3",
   "version": "3.11.5"
  }
 },
 "nbformat": 4,
 "nbformat_minor": 5
}
